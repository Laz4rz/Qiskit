{
  "nbformat": 4,
  "nbformat_minor": 0,
  "metadata": {
    "colab": {
      "name": "Qiskit_1.ipynb",
      "provenance": []
    },
    "kernelspec": {
      "name": "python3",
      "display_name": "Python 3"
    },
    "language_info": {
      "name": "python"
    }
  },
  "cells": [
    {
      "cell_type": "markdown",
      "metadata": {
        "id": "J-7Cxdy2aFpV"
      },
      "source": [
        "### Install and import Qiskit"
      ]
    },
    {
      "cell_type": "code",
      "metadata": {
        "id": "AI8qAN-BZB1L"
      },
      "source": [
        "%%capture\n",
        "!pip install qiskit\n",
        "!pip install pylatexenc\n",
        "!pip install matplotlib"
      ],
      "execution_count": 1,
      "outputs": []
    },
    {
      "cell_type": "code",
      "metadata": {
        "id": "bVKHH9BqY9OQ"
      },
      "source": [
        "import qiskit as q\n",
        "from qiskit import QuantumCircuit, assemble, Aer\n",
        "from qiskit.visualization import plot_histogram"
      ],
      "execution_count": 25,
      "outputs": []
    },
    {
      "cell_type": "markdown",
      "metadata": {
        "id": "9tssYd2obSoa"
      },
      "source": [
        "### Basic quantum circuit"
      ]
    },
    {
      "cell_type": "markdown",
      "metadata": {
        "id": "luKpjjAheLao"
      },
      "source": [
        "Creating the circuit"
      ]
    },
    {
      "cell_type": "code",
      "metadata": {
        "id": "ykLlAAnsbWIc"
      },
      "source": [
        "n = 8\n",
        "n_q = n\n",
        "n_b = n\n",
        "qc_output = QuantumCircuit(n_q, n_b) # n_q - qubits in circuit, n_b - qubits output"
      ],
      "execution_count": 3,
      "outputs": []
    },
    {
      "cell_type": "markdown",
      "metadata": {
        "id": "aNKNsXuJeR84"
      },
      "source": [
        "Connecting qubits measurements with proper positions in the output"
      ]
    },
    {
      "cell_type": "code",
      "metadata": {
        "id": "6zJnB5-bb6io"
      },
      "source": [
        "for qubit_number in range(n):\n",
        "    qc_output.measure(qubit_number, qubit_number)"
      ],
      "execution_count": 4,
      "outputs": []
    },
    {
      "cell_type": "markdown",
      "metadata": {
        "id": "ZqW_0FdQeT4r"
      },
      "source": [
        "Drawing the circuit state "
      ]
    },
    {
      "cell_type": "code",
      "metadata": {
        "colab": {
          "base_uri": "https://localhost:8080/",
          "height": 302
        },
        "id": "ag22WkIqduIl",
        "outputId": "72099598-34ff-4eef-aa7b-3e6de01a53f2"
      },
      "source": [
        "qc_output.draw()"
      ],
      "execution_count": 5,
      "outputs": [
        {
          "output_type": "execute_result",
          "data": {
            "text/html": [
              "<pre style=\"word-wrap: normal;white-space: pre;background: #fff0;line-height: 1.1;font-family: &quot;Courier New&quot;,Courier,monospace\">     ┌─┐                     \n",
              "q_0: ┤M├─────────────────────\n",
              "     └╥┘┌─┐                  \n",
              "q_1: ─╫─┤M├──────────────────\n",
              "      ║ └╥┘┌─┐               \n",
              "q_2: ─╫──╫─┤M├───────────────\n",
              "      ║  ║ └╥┘┌─┐            \n",
              "q_3: ─╫──╫──╫─┤M├────────────\n",
              "      ║  ║  ║ └╥┘┌─┐         \n",
              "q_4: ─╫──╫──╫──╫─┤M├─────────\n",
              "      ║  ║  ║  ║ └╥┘┌─┐      \n",
              "q_5: ─╫──╫──╫──╫──╫─┤M├──────\n",
              "      ║  ║  ║  ║  ║ └╥┘┌─┐   \n",
              "q_6: ─╫──╫──╫──╫──╫──╫─┤M├───\n",
              "      ║  ║  ║  ║  ║  ║ └╥┘┌─┐\n",
              "q_7: ─╫──╫──╫──╫──╫──╫──╫─┤M├\n",
              "      ║  ║  ║  ║  ║  ║  ║ └╥┘\n",
              "c: 8/═╩══╩══╩══╩══╩══╩══╩══╩═\n",
              "      0  1  2  3  4  5  6  7 </pre>"
            ],
            "text/plain": [
              "     ┌─┐                     \n",
              "q_0: ┤M├─────────────────────\n",
              "     └╥┘┌─┐                  \n",
              "q_1: ─╫─┤M├──────────────────\n",
              "      ║ └╥┘┌─┐               \n",
              "q_2: ─╫──╫─┤M├───────────────\n",
              "      ║  ║ └╥┘┌─┐            \n",
              "q_3: ─╫──╫──╫─┤M├────────────\n",
              "      ║  ║  ║ └╥┘┌─┐         \n",
              "q_4: ─╫──╫──╫──╫─┤M├─────────\n",
              "      ║  ║  ║  ║ └╥┘┌─┐      \n",
              "q_5: ─╫──╫──╫──╫──╫─┤M├──────\n",
              "      ║  ║  ║  ║  ║ └╥┘┌─┐   \n",
              "q_6: ─╫──╫──╫──╫──╫──╫─┤M├───\n",
              "      ║  ║  ║  ║  ║  ║ └╥┘┌─┐\n",
              "q_7: ─╫──╫──╫──╫──╫──╫──╫─┤M├\n",
              "      ║  ║  ║  ║  ║  ║  ║ └╥┘\n",
              "c: 8/═╩══╩══╩══╩══╩══╩══╩══╩═\n",
              "      0  1  2  3  4  5  6  7 "
            ]
          },
          "metadata": {},
          "execution_count": 5
        }
      ]
    },
    {
      "cell_type": "markdown",
      "metadata": {
        "id": "YWQvj2uWelIZ"
      },
      "source": [
        "Simulating the same instruction gives us a 100% probability that the circuits has 8 qubits with the value of 0"
      ]
    },
    {
      "cell_type": "code",
      "metadata": {
        "colab": {
          "base_uri": "https://localhost:8080/",
          "height": 380
        },
        "id": "o-IczWF6efb7",
        "outputId": "12678528-c4ac-49e5-fb43-427af6ce2a41"
      },
      "source": [
        "sim = Aer.get_backend('aer_simulator')  # this is the simulator we'll use\n",
        "qobj = assemble(qc_output)  # this turns the circuit into an object our backend can run\n",
        "result = sim.run(qobj).result()\n",
        "counts = result.get_counts()\n",
        "plot_histogram(counts)"
      ],
      "execution_count": 6,
      "outputs": [
        {
          "output_type": "execute_result",
          "data": {
            "image/png": "[encoded data removed]",
            "text/plain": [
              "<Figure size 504x360 with 1 Axes>"
            ]
          },
          "metadata": {},
          "execution_count": 6
        }
      ]
    },
    {
      "cell_type": "markdown",
      "metadata": {
        "id": "AnU_e78ofuKe"
      },
      "source": [
        "### Quantum adder circuit"
      ]
    },
    {
      "cell_type": "markdown",
      "metadata": {
        "id": "yRZupHhxitmy"
      },
      "source": [
        "Flipping the value of 7th qubit using x-gate  \n",
        "```\n",
        "circuit_name.x(qubit_number)\n",
        "```"
      ]
    },
    {
      "cell_type": "code",
      "metadata": {
        "colab": {
          "base_uri": "https://localhost:8080/",
          "height": 272
        },
        "id": "Orjj_lqAfbuT",
        "outputId": "0d30dcfe-a59c-4e39-bff5-bb54111f2853"
      },
      "source": [
        "qc_encode = QuantumCircuit(n)\n",
        "qc_encode.x(7)\n",
        "qc_encode.draw()"
      ],
      "execution_count": 7,
      "outputs": [
        {
          "output_type": "execute_result",
          "data": {
            "text/html": [
              "<pre style=\"word-wrap: normal;white-space: pre;background: #fff0;line-height: 1.1;font-family: &quot;Courier New&quot;,Courier,monospace\">          \n",
              "q_0: ─────\n",
              "          \n",
              "q_1: ─────\n",
              "          \n",
              "q_2: ─────\n",
              "          \n",
              "q_3: ─────\n",
              "          \n",
              "q_4: ─────\n",
              "          \n",
              "q_5: ─────\n",
              "          \n",
              "q_6: ─────\n",
              "     ┌───┐\n",
              "q_7: ┤ X ├\n",
              "     └───┘</pre>"
            ],
            "text/plain": [
              "          \n",
              "q_0: ─────\n",
              "          \n",
              "q_1: ─────\n",
              "          \n",
              "q_2: ─────\n",
              "          \n",
              "q_3: ─────\n",
              "          \n",
              "q_4: ─────\n",
              "          \n",
              "q_5: ─────\n",
              "          \n",
              "q_6: ─────\n",
              "     ┌───┐\n",
              "q_7: ┤ X ├\n",
              "     └───┘"
            ]
          },
          "metadata": {},
          "execution_count": 7
        }
      ]
    },
    {
      "cell_type": "markdown",
      "metadata": {
        "id": "peehSs4qj2rr"
      },
      "source": [
        "Combining the circuits"
      ]
    },
    {
      "cell_type": "code",
      "metadata": {
        "colab": {
          "base_uri": "https://localhost:8080/",
          "height": 390
        },
        "id": "iUP4uGmBg-sc",
        "outputId": "21e5c05e-1058-4dc1-8017-5fd7bc647fae"
      },
      "source": [
        "qc = qc_encode + qc_output\n",
        "qc.draw()"
      ],
      "execution_count": 8,
      "outputs": [
        {
          "output_type": "stream",
          "text": [
            "/usr/local/lib/python3.7/dist-packages/ipykernel_launcher.py:1: DeprecationWarning: The QuantumCircuit.__add__() method is being deprecated.Use the compose() method which is more flexible w.r.t circuit register compatibility.\n",
            "  \"\"\"Entry point for launching an IPython kernel.\n",
            "/usr/local/lib/python3.7/dist-packages/qiskit/circuit/quantumcircuit.py:933: DeprecationWarning: The QuantumCircuit.combine() method is being deprecated. Use the compose() method which is more flexible w.r.t circuit register compatibility.\n",
            "  return self.combine(rhs)\n"
          ],
          "name": "stderr"
        },
        {
          "output_type": "execute_result",
          "data": {
            "text/html": [
              "<pre style=\"word-wrap: normal;white-space: pre;background: #fff0;line-height: 1.1;font-family: &quot;Courier New&quot;,Courier,monospace\">          ┌─┐                     \n",
              "q_0: ─────┤M├─────────────────────\n",
              "          └╥┘┌─┐                  \n",
              "q_1: ──────╫─┤M├──────────────────\n",
              "           ║ └╥┘┌─┐               \n",
              "q_2: ──────╫──╫─┤M├───────────────\n",
              "           ║  ║ └╥┘┌─┐            \n",
              "q_3: ──────╫──╫──╫─┤M├────────────\n",
              "           ║  ║  ║ └╥┘┌─┐         \n",
              "q_4: ──────╫──╫──╫──╫─┤M├─────────\n",
              "           ║  ║  ║  ║ └╥┘┌─┐      \n",
              "q_5: ──────╫──╫──╫──╫──╫─┤M├──────\n",
              "           ║  ║  ║  ║  ║ └╥┘┌─┐   \n",
              "q_6: ──────╫──╫──╫──╫──╫──╫─┤M├───\n",
              "     ┌───┐ ║  ║  ║  ║  ║  ║ └╥┘┌─┐\n",
              "q_7: ┤ X ├─╫──╫──╫──╫──╫──╫──╫─┤M├\n",
              "     └───┘ ║  ║  ║  ║  ║  ║  ║ └╥┘\n",
              "c: 8/══════╩══╩══╩══╩══╩══╩══╩══╩═\n",
              "           0  1  2  3  4  5  6  7 </pre>"
            ],
            "text/plain": [
              "          ┌─┐                     \n",
              "q_0: ─────┤M├─────────────────────\n",
              "          └╥┘┌─┐                  \n",
              "q_1: ──────╫─┤M├──────────────────\n",
              "           ║ └╥┘┌─┐               \n",
              "q_2: ──────╫──╫─┤M├───────────────\n",
              "           ║  ║ └╥┘┌─┐            \n",
              "q_3: ──────╫──╫──╫─┤M├────────────\n",
              "           ║  ║  ║ └╥┘┌─┐         \n",
              "q_4: ──────╫──╫──╫──╫─┤M├─────────\n",
              "           ║  ║  ║  ║ └╥┘┌─┐      \n",
              "q_5: ──────╫──╫──╫──╫──╫─┤M├──────\n",
              "           ║  ║  ║  ║  ║ └╥┘┌─┐   \n",
              "q_6: ──────╫──╫──╫──╫──╫──╫─┤M├───\n",
              "     ┌───┐ ║  ║  ║  ║  ║  ║ └╥┘┌─┐\n",
              "q_7: ┤ X ├─╫──╫──╫──╫──╫──╫──╫─┤M├\n",
              "     └───┘ ║  ║  ║  ║  ║  ║  ║ └╥┘\n",
              "c: 8/══════╩══╩══╩══╩══╩══╩══╩══╩═\n",
              "           0  1  2  3  4  5  6  7 "
            ]
          },
          "metadata": {},
          "execution_count": 8
        }
      ]
    },
    {
      "cell_type": "markdown",
      "metadata": {
        "id": "D63PlWAKj6UU"
      },
      "source": [
        "Seeing the result of the flip, 7th bit has a value of 1"
      ]
    },
    {
      "cell_type": "code",
      "metadata": {
        "colab": {
          "base_uri": "https://localhost:8080/",
          "height": 380
        },
        "id": "DC1YZNbuhQzb",
        "outputId": "cf3866a3-89d3-462d-e3a4-102d9ee24aa7"
      },
      "source": [
        "qobj = assemble(qc)\n",
        "counts = sim.run(qobj).result().get_counts()\n",
        "plot_histogram(counts)"
      ],
      "execution_count": 9,
      "outputs": [
        {
          "output_type": "execute_result",
          "data": {
            "image/png": "[encoded data removed]",
            "text/plain": [
              "<Figure size 504x360 with 1 Axes>"
            ]
          },
          "metadata": {},
          "execution_count": 9
        }
      ]
    },
    {
      "cell_type": "markdown",
      "metadata": {
        "id": "dPqZl5vsk82V"
      },
      "source": [
        "Encoding my age in the circuit"
      ]
    },
    {
      "cell_type": "code",
      "metadata": {
        "colab": {
          "base_uri": "https://localhost:8080/",
          "height": 272
        },
        "id": "2ednkXjnkCsd",
        "outputId": "b23ea021-8fd3-4e2a-b3a9-07ec3f94e3cd"
      },
      "source": [
        "qc_encode = QuantumCircuit(n)\n",
        "qc_encode.x(1)\n",
        "qc_encode.x(2)\n",
        "qc_encode.x(4)\n",
        "\n",
        "qc_encode.draw()"
      ],
      "execution_count": 10,
      "outputs": [
        {
          "output_type": "execute_result",
          "data": {
            "text/html": [
              "<pre style=\"word-wrap: normal;white-space: pre;background: #fff0;line-height: 1.1;font-family: &quot;Courier New&quot;,Courier,monospace\">          \n",
              "q_0: ─────\n",
              "     ┌───┐\n",
              "q_1: ┤ X ├\n",
              "     ├───┤\n",
              "q_2: ┤ X ├\n",
              "     └───┘\n",
              "q_3: ─────\n",
              "     ┌───┐\n",
              "q_4: ┤ X ├\n",
              "     └───┘\n",
              "q_5: ─────\n",
              "          \n",
              "q_6: ─────\n",
              "          \n",
              "q_7: ─────\n",
              "          </pre>"
            ],
            "text/plain": [
              "          \n",
              "q_0: ─────\n",
              "     ┌───┐\n",
              "q_1: ┤ X ├\n",
              "     ├───┤\n",
              "q_2: ┤ X ├\n",
              "     └───┘\n",
              "q_3: ─────\n",
              "     ┌───┐\n",
              "q_4: ┤ X ├\n",
              "     └───┘\n",
              "q_5: ─────\n",
              "          \n",
              "q_6: ─────\n",
              "          \n",
              "q_7: ─────\n",
              "          "
            ]
          },
          "metadata": {},
          "execution_count": 10
        }
      ]
    },
    {
      "cell_type": "markdown",
      "metadata": {
        "id": "QlTP_oahnplC"
      },
      "source": [
        "Creating a circut with XOR gate, in quantum computing it's job is done using CNOT (controlled-not) - be careful their truth tables are different so CNOT =/= XOR\n",
        "```\n",
        "circuit_name.cx(control_qubit, target_qubit)\n",
        "```\n",
        "![image.png](data:image/png;base64,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)![image.png](data:image/png;base64,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)\n"
      ]
    },
    {
      "cell_type": "code",
      "metadata": {
        "colab": {
          "base_uri": "https://localhost:8080/",
          "height": 92
        },
        "id": "DC9_0Rwok727",
        "outputId": "092eb1c0-c423-4feb-99f7-8e329965d642"
      },
      "source": [
        "qc_cnot = QuantumCircuit(2)\n",
        "qc_cnot.cx(0, 1)\n",
        "\n",
        "qc_cnot.draw()"
      ],
      "execution_count": 11,
      "outputs": [
        {
          "output_type": "execute_result",
          "data": {
            "text/html": [
              "<pre style=\"word-wrap: normal;white-space: pre;background: #fff0;line-height: 1.1;font-family: &quot;Courier New&quot;,Courier,monospace\">          \n",
              "q_0: ──■──\n",
              "     ┌─┴─┐\n",
              "q_1: ┤ X ├\n",
              "     └───┘</pre>"
            ],
            "text/plain": [
              "          \n",
              "q_0: ──■──\n",
              "     ┌─┴─┐\n",
              "q_1: ┤ X ├\n",
              "     └───┘"
            ]
          },
          "metadata": {},
          "execution_count": 11
        }
      ]
    },
    {
      "cell_type": "code",
      "metadata": {
        "colab": {
          "base_uri": "https://localhost:8080/",
          "height": 122
        },
        "id": "5gh3CKZvnS5Y",
        "outputId": "b12a77ff-b0b2-4380-ce7d-47e45bba82f1"
      },
      "source": [
        "qc = QuantumCircuit(2, 2)\n",
        "qc.x(0)\n",
        "qc.cx(0, 1)\n",
        "\n",
        "for qubit_number in range(2):\n",
        "  qc.measure(qubit_number, qubit_number)\n",
        "\n",
        "qc.draw()"
      ],
      "execution_count": 12,
      "outputs": [
        {
          "output_type": "execute_result",
          "data": {
            "text/html": [
              "<pre style=\"word-wrap: normal;white-space: pre;background: #fff0;line-height: 1.1;font-family: &quot;Courier New&quot;,Courier,monospace\">     ┌───┐     ┌─┐   \n",
              "q_0: ┤ X ├──■──┤M├───\n",
              "     └───┘┌─┴─┐└╥┘┌─┐\n",
              "q_1: ─────┤ X ├─╫─┤M├\n",
              "          └───┘ ║ └╥┘\n",
              "c: 2/═══════════╩══╩═\n",
              "                0  1 </pre>"
            ],
            "text/plain": [
              "     ┌───┐     ┌─┐   \n",
              "q_0: ┤ X ├──■──┤M├───\n",
              "     └───┘┌─┴─┐└╥┘┌─┐\n",
              "q_1: ─────┤ X ├─╫─┤M├\n",
              "          └───┘ ║ └╥┘\n",
              "c: 2/═══════════╩══╩═\n",
              "                0  1 "
            ]
          },
          "metadata": {},
          "execution_count": 12
        }
      ]
    },
    {
      "cell_type": "markdown",
      "metadata": {
        "id": "D47w6lHl0R9-"
      },
      "source": [
        "As we can see by running the experiment below, this is not a desired result that we would get by using XOR, because of that we have to make a few tweak to the circuit"
      ]
    },
    {
      "cell_type": "code",
      "metadata": {
        "colab": {
          "base_uri": "https://localhost:8080/",
          "height": 331
        },
        "id": "5N3bVT32pXpo",
        "outputId": "fe609b95-717a-4d92-9faf-c9e9bf074734"
      },
      "source": [
        "qobj = assemble(qc)\n",
        "counts = sim.run(qobj).result().get_counts()\n",
        "plot_histogram(counts)"
      ],
      "execution_count": 13,
      "outputs": [
        {
          "output_type": "execute_result",
          "data": {
            "image/png": "[encoded data removed]",
            "text/plain": [
              "<Figure size 504x360 with 1 Axes>"
            ]
          },
          "metadata": {},
          "execution_count": 13
        }
      ]
    },
    {
      "cell_type": "markdown",
      "metadata": {
        "id": "BalUlrMWRCrd"
      },
      "source": [
        "To make a XOR gate we have to put 2 CNOTs in the circuit, it's a first step of building a half adder which is a part the adding circuit which we are trying to make\n"
      ]
    },
    {
      "cell_type": "code",
      "metadata": {
        "colab": {
          "base_uri": "https://localhost:8080/",
          "height": 182
        },
        "id": "M3nUJSkgwZJ2",
        "outputId": "a487b285-5b5a-4306-aa88-89a5a1841a3a"
      },
      "source": [
        "qc_ha = QuantumCircuit(4, 2)\n",
        "\n",
        "qc_ha.x(0)\n",
        "qc_ha.x(1)\n",
        "qc_ha.barrier() # barrier is used to tell the compiler which parts of the circuit can be compiled separately\n",
        "\n",
        "qc_ha.cx(0, 2)\n",
        "qc_ha.cx(1, 2)\n",
        "qc_ha.barrier()\n",
        "\n",
        "qc_ha.measure(2, 0)\n",
        "qc_ha.measure(3, 1)\n",
        "\n",
        "qc_ha.draw()"
      ],
      "execution_count": 14,
      "outputs": [
        {
          "output_type": "execute_result",
          "data": {
            "text/html": [
              "<pre style=\"word-wrap: normal;white-space: pre;background: #fff0;line-height: 1.1;font-family: &quot;Courier New&quot;,Courier,monospace\">     ┌───┐ ░            ░       \n",
              "q_0: ┤ X ├─░───■────────░───────\n",
              "     ├───┤ ░   │        ░       \n",
              "q_1: ┤ X ├─░───┼────■───░───────\n",
              "     └───┘ ░ ┌─┴─┐┌─┴─┐ ░ ┌─┐   \n",
              "q_2: ──────░─┤ X ├┤ X ├─░─┤M├───\n",
              "           ░ └───┘└───┘ ░ └╥┘┌─┐\n",
              "q_3: ──────░────────────░──╫─┤M├\n",
              "           ░            ░  ║ └╥┘\n",
              "c: 2/══════════════════════╩══╩═\n",
              "                           0  1 </pre>"
            ],
            "text/plain": [
              "     ┌───┐ ░            ░       \n",
              "q_0: ┤ X ├─░───■────────░───────\n",
              "     ├───┤ ░   │        ░       \n",
              "q_1: ┤ X ├─░───┼────■───░───────\n",
              "     └───┘ ░ ┌─┴─┐┌─┴─┐ ░ ┌─┐   \n",
              "q_2: ──────░─┤ X ├┤ X ├─░─┤M├───\n",
              "           ░ └───┘└───┘ ░ └╥┘┌─┐\n",
              "q_3: ──────░────────────░──╫─┤M├\n",
              "           ░            ░  ║ └╥┘\n",
              "c: 2/══════════════════════╩══╩═\n",
              "                           0  1 "
            ]
          },
          "metadata": {},
          "execution_count": 14
        }
      ]
    },
    {
      "cell_type": "markdown",
      "metadata": {
        "id": "2WRBgf_RT2ai"
      },
      "source": [
        "There is one more step between a XOR gate and a working half adder - we need to use what's called a Toffoli gate which behaves pretty much like an AND gate in quantum world. \n",
        "```\n",
        "circuit_name.ccx(control_qubit1, control_qubit2, target_qubit)\n",
        "```\n",
        "This way we will get a 1 on the first left qubit in case of two 1s on input. "
      ]
    },
    {
      "cell_type": "code",
      "metadata": {
        "colab": {
          "base_uri": "https://localhost:8080/",
          "height": 182
        },
        "id": "BqYL_vsQRiKt",
        "outputId": "1e63d458-f7fd-45f6-9938-9831e4387777"
      },
      "source": [
        "qc_ha = QuantumCircuit(4, 2)\n",
        "\n",
        "qc_ha.x(0)\n",
        "qc_ha.x(1)\n",
        "qc_ha.barrier() # barrier is used to tell the compiler which parts of the circuit can be compiled separately\n",
        "\n",
        "# XOR gate build with two CNOT gates\n",
        "qc_ha.cx(0, 2)\n",
        "qc_ha.cx(1, 2)\n",
        "qc_ha.barrier()\n",
        "\n",
        "# AND gate (Toffoli) build with CCNOT\n",
        "qc_ha.ccx(0, 1, 3)\n",
        "qc_ha.barrier()\n",
        "\n",
        "qc_ha.measure(2, 0)\n",
        "qc_ha.measure(3, 1)\n",
        "\n",
        "qc_ha.draw()"
      ],
      "execution_count": 15,
      "outputs": [
        {
          "output_type": "execute_result",
          "data": {
            "text/html": [
              "<pre style=\"word-wrap: normal;white-space: pre;background: #fff0;line-height: 1.1;font-family: &quot;Courier New&quot;,Courier,monospace\">     ┌───┐ ░            ░       ░       \n",
              "q_0: ┤ X ├─░───■────────░───■───░───────\n",
              "     ├───┤ ░   │        ░   │   ░       \n",
              "q_1: ┤ X ├─░───┼────■───░───■───░───────\n",
              "     └───┘ ░ ┌─┴─┐┌─┴─┐ ░   │   ░ ┌─┐   \n",
              "q_2: ──────░─┤ X ├┤ X ├─░───┼───░─┤M├───\n",
              "           ░ └───┘└───┘ ░ ┌─┴─┐ ░ └╥┘┌─┐\n",
              "q_3: ──────░────────────░─┤ X ├─░──╫─┤M├\n",
              "           ░            ░ └───┘ ░  ║ └╥┘\n",
              "c: 2/══════════════════════════════╩══╩═\n",
              "                                   0  1 </pre>"
            ],
            "text/plain": [
              "     ┌───┐ ░            ░       ░       \n",
              "q_0: ┤ X ├─░───■────────░───■───░───────\n",
              "     ├───┤ ░   │        ░   │   ░       \n",
              "q_1: ┤ X ├─░───┼────■───░───■───░───────\n",
              "     └───┘ ░ ┌─┴─┐┌─┴─┐ ░   │   ░ ┌─┐   \n",
              "q_2: ──────░─┤ X ├┤ X ├─░───┼───░─┤M├───\n",
              "           ░ └───┘└───┘ ░ ┌─┴─┐ ░ └╥┘┌─┐\n",
              "q_3: ──────░────────────░─┤ X ├─░──╫─┤M├\n",
              "           ░            ░ └───┘ ░  ║ └╥┘\n",
              "c: 2/══════════════════════════════╩══╩═\n",
              "                                   0  1 "
            ]
          },
          "metadata": {},
          "execution_count": 15
        }
      ]
    },
    {
      "cell_type": "markdown",
      "metadata": {
        "id": "OpJqnYl0V2rA"
      },
      "source": [
        "Running the simulation to see the results of computations"
      ]
    },
    {
      "cell_type": "code",
      "metadata": {
        "colab": {
          "base_uri": "https://localhost:8080/",
          "height": 331
        },
        "id": "eRsnf_lwVMaO",
        "outputId": "2eb41470-d887-4e83-b7a0-4087c18c4990"
      },
      "source": [
        "qobj = assemble(qc_ha)\n",
        "counts = sim.run(qobj).result().get_counts()\n",
        "plot_histogram(counts)"
      ],
      "execution_count": 16,
      "outputs": [
        {
          "output_type": "execute_result",
          "data": {
            "image/png": "[encoded data removed]",
            "text/plain": [
              "<Figure size 504x360 with 1 Axes>"
            ]
          },
          "metadata": {},
          "execution_count": 16
        }
      ]
    },
    {
      "cell_type": "markdown",
      "metadata": {
        "id": "jAFhYapfWdpA"
      },
      "source": [
        "By running the simulation we can see that the circuit we've built knows how to deal with binary 1 + 1, we can now try to put the 3 other possible inputs just to be sure.\n",
        "\n",
        "To play around with ```QuantumCircuit``` attributes we can work on the existing circuit."
      ]
    },
    {
      "cell_type": "markdown",
      "metadata": {
        "id": "0Ul9RiL_iXAk"
      },
      "source": [
        "Printing the data describing the circuit we've built to see what needs to be changed"
      ]
    },
    {
      "cell_type": "code",
      "metadata": {
        "colab": {
          "base_uri": "https://localhost:8080/"
        },
        "id": "HgvZDhV4WhOx",
        "outputId": "b5a645d6-45b4-4f84-d65d-af0cb987a8b4"
      },
      "source": [
        "for i in qc_ha.data:\n",
        "  print(i)"
      ],
      "execution_count": 17,
      "outputs": [
        {
          "output_type": "stream",
          "text": [
            "(<qiskit.circuit.library.standard_gates.x.XGate object at 0x7f0c46bc7c90>, [Qubit(QuantumRegister(4, 'q'), 0)], [])\n",
            "(<qiskit.circuit.library.standard_gates.x.XGate object at 0x7f0c46bb5150>, [Qubit(QuantumRegister(4, 'q'), 1)], [])\n",
            "(<qiskit.circuit.barrier.Barrier object at 0x7f0c46bc7d90>, [Qubit(QuantumRegister(4, 'q'), 0), Qubit(QuantumRegister(4, 'q'), 1), Qubit(QuantumRegister(4, 'q'), 2), Qubit(QuantumRegister(4, 'q'), 3)], [])\n",
            "(<qiskit.circuit.library.standard_gates.x.CXGate object at 0x7f0c46bc7c50>, [Qubit(QuantumRegister(4, 'q'), 0), Qubit(QuantumRegister(4, 'q'), 2)], [])\n",
            "(<qiskit.circuit.library.standard_gates.x.CXGate object at 0x7f0c46bc7f50>, [Qubit(QuantumRegister(4, 'q'), 1), Qubit(QuantumRegister(4, 'q'), 2)], [])\n",
            "(<qiskit.circuit.barrier.Barrier object at 0x7f0c46bc7e90>, [Qubit(QuantumRegister(4, 'q'), 0), Qubit(QuantumRegister(4, 'q'), 1), Qubit(QuantumRegister(4, 'q'), 2), Qubit(QuantumRegister(4, 'q'), 3)], [])\n",
            "(<qiskit.circuit.library.standard_gates.x.CCXGate object at 0x7f0c46bc7dd0>, [Qubit(QuantumRegister(4, 'q'), 0), Qubit(QuantumRegister(4, 'q'), 1), Qubit(QuantumRegister(4, 'q'), 3)], [])\n",
            "(<qiskit.circuit.barrier.Barrier object at 0x7f0c46bc7d50>, [Qubit(QuantumRegister(4, 'q'), 0), Qubit(QuantumRegister(4, 'q'), 1), Qubit(QuantumRegister(4, 'q'), 2), Qubit(QuantumRegister(4, 'q'), 3)], [])\n",
            "(<qiskit.circuit.measure.Measure object at 0x7f0c46bc7ed0>, [Qubit(QuantumRegister(4, 'q'), 2)], [Clbit(ClassicalRegister(2, 'c'), 0)])\n",
            "(<qiskit.circuit.measure.Measure object at 0x7f0c46bc7d10>, [Qubit(QuantumRegister(4, 'q'), 3)], [Clbit(ClassicalRegister(2, 'c'), 1)])\n"
          ],
          "name": "stdout"
        }
      ]
    },
    {
      "cell_type": "markdown",
      "metadata": {
        "id": "KavmUyx5ifES"
      },
      "source": [
        "Changing the input to be 01, by deleting the first X gate from the circuit in not so elegant, but apparently the only way it can be done without re-doing the whole circuit"
      ]
    },
    {
      "cell_type": "code",
      "metadata": {
        "colab": {
          "base_uri": "https://localhost:8080/",
          "height": 182
        },
        "id": "5WfehttqiUyW",
        "outputId": "2c274d90-ccee-4a63-aabd-beaca448fa19"
      },
      "source": [
        "data = qc_ha.data.copy()\n",
        "qc_ha01 = qc_ha.copy()\n",
        "\n",
        "del data[0]\n",
        "\n",
        "qc_ha01.data = data\n",
        "qc_ha01.draw()"
      ],
      "execution_count": 18,
      "outputs": [
        {
          "output_type": "execute_result",
          "data": {
            "text/html": [
              "<pre style=\"word-wrap: normal;white-space: pre;background: #fff0;line-height: 1.1;font-family: &quot;Courier New&quot;,Courier,monospace\">           ░            ░       ░       \n",
              "q_0: ──────░───■────────░───■───░───────\n",
              "     ┌───┐ ░   │        ░   │   ░       \n",
              "q_1: ┤ X ├─░───┼────■───░───■───░───────\n",
              "     └───┘ ░ ┌─┴─┐┌─┴─┐ ░   │   ░ ┌─┐   \n",
              "q_2: ──────░─┤ X ├┤ X ├─░───┼───░─┤M├───\n",
              "           ░ └───┘└───┘ ░ ┌─┴─┐ ░ └╥┘┌─┐\n",
              "q_3: ──────░────────────░─┤ X ├─░──╫─┤M├\n",
              "           ░            ░ └───┘ ░  ║ └╥┘\n",
              "c: 2/══════════════════════════════╩══╩═\n",
              "                                   0  1 </pre>"
            ],
            "text/plain": [
              "           ░            ░       ░       \n",
              "q_0: ──────░───■────────░───■───░───────\n",
              "     ┌───┐ ░   │        ░   │   ░       \n",
              "q_1: ┤ X ├─░───┼────■───░───■───░───────\n",
              "     └───┘ ░ ┌─┴─┐┌─┴─┐ ░   │   ░ ┌─┐   \n",
              "q_2: ──────░─┤ X ├┤ X ├─░───┼───░─┤M├───\n",
              "           ░ └───┘└───┘ ░ ┌─┴─┐ ░ └╥┘┌─┐\n",
              "q_3: ──────░────────────░─┤ X ├─░──╫─┤M├\n",
              "           ░            ░ └───┘ ░  ║ └╥┘\n",
              "c: 2/══════════════════════════════╩══╩═\n",
              "                                   0  1 "
            ]
          },
          "metadata": {},
          "execution_count": 18
        }
      ]
    },
    {
      "cell_type": "code",
      "metadata": {
        "colab": {
          "base_uri": "https://localhost:8080/",
          "height": 331
        },
        "id": "PwjWOnFqfZ6u",
        "outputId": "e869628b-5d29-4a83-f4f7-42abd75b5b23"
      },
      "source": [
        "qobj = assemble(qc_ha01)\n",
        "counts = sim.run(qobj).result().get_counts()\n",
        "plot_histogram(counts)"
      ],
      "execution_count": 19,
      "outputs": [
        {
          "output_type": "execute_result",
          "data": {
            "image/png": "[encoded data removed]",
            "text/plain": [
              "<Figure size 504x360 with 1 Axes>"
            ]
          },
          "metadata": {},
          "execution_count": 19
        }
      ]
    },
    {
      "cell_type": "markdown",
      "metadata": {
        "id": "fIME0hdUi__N"
      },
      "source": [
        "Changing the input to be 00, you can change the circut draw to the cool-look, by adding 'mpl' as an argument  \n",
        "```\n",
        "circuit_name.draw('mpl')\n",
        "```"
      ]
    },
    {
      "cell_type": "code",
      "metadata": {
        "colab": {
          "base_uri": "https://localhost:8080/",
          "height": 276
        },
        "id": "Seww1CtvjBaO",
        "outputId": "d8443dae-1a4a-4820-f3c6-fc11902a9fbb"
      },
      "source": [
        "data = qc_ha.data.copy()\n",
        "qc_ha00 = qc_ha.copy()\n",
        "\n",
        "del data[0]\n",
        "del data[0]\n",
        "\n",
        "qc_ha00.data = data\n",
        "qc_ha00.draw('mpl')"
      ],
      "execution_count": 20,
      "outputs": [
        {
          "output_type": "execute_result",
          "data": {
            "image/png": "[encoded data removed]",
            "text/plain": [
              "<Figure size 568.197x325.08 with 1 Axes>"
            ]
          },
          "metadata": {},
          "execution_count": 20
        }
      ]
    },
    {
      "cell_type": "code",
      "metadata": {
        "colab": {
          "base_uri": "https://localhost:8080/",
          "height": 331
        },
        "id": "nk2YwsPejExX",
        "outputId": "c3293f9f-324f-4950-9b6d-85c87e2cd7d0"
      },
      "source": [
        "qobj = assemble(qc_ha00)\n",
        "counts = sim.run(qobj).result().get_counts()\n",
        "plot_histogram(counts)"
      ],
      "execution_count": 21,
      "outputs": [
        {
          "output_type": "execute_result",
          "data": {
            "image/png": "[encoded data removed]",
            "text/plain": [
              "<Figure size 504x360 with 1 Axes>"
            ]
          },
          "metadata": {},
          "execution_count": 21
        }
      ]
    },
    {
      "cell_type": "markdown",
      "metadata": {
        "id": "zOt1J2HvjPpi"
      },
      "source": [
        "Changing the input to be 10, by trying to add the X gate object to existing ```qc_ha00``` circuit\n",
        "\n",
        "It wasn't easy"
      ]
    },
    {
      "cell_type": "code",
      "metadata": {
        "colab": {
          "base_uri": "https://localhost:8080/",
          "height": 276
        },
        "id": "yrt6j1KSjLrG",
        "outputId": "461a19b9-68bd-4322-b27f-e753e0e53802"
      },
      "source": [
        "data = qc_ha00.data.copy()\n",
        "qc_ha10 = qc_ha00.copy()\n",
        "\n",
        "data.insert(0, \n",
        "            (\n",
        "                q.circuit.library.standard_gates.x.XGate(), \n",
        "                [q.circuit.Qubit(q.QuantumRegister(4, 'q'), 0)],\n",
        "                []\n",
        "            )\n",
        ")\n",
        "\n",
        "qc_ha10.data = data\n",
        "qc_ha10.draw('mpl')"
      ],
      "execution_count": 32,
      "outputs": [
        {
          "output_type": "execute_result",
          "data": {
            "image/png": "[encoded data removed]",
            "text/plain": [
              "<Figure size 628.397x325.08 with 1 Axes>"
            ]
          },
          "metadata": {},
          "execution_count": 32
        }
      ]
    },
    {
      "cell_type": "code",
      "metadata": {
        "colab": {
          "base_uri": "https://localhost:8080/",
          "height": 331
        },
        "id": "-DSAr4EEmqw8",
        "outputId": "4a380243-451e-46ff-f54c-b9d4b9934bbc"
      },
      "source": [
        "qobj = assemble(qc_ha10)\n",
        "counts = sim.run(qobj).result().get_counts()\n",
        "plot_histogram(counts)"
      ],
      "execution_count": 33,
      "outputs": [
        {
          "output_type": "execute_result",
          "data": {
            "image/png": "[encoded data removed]",
            "text/plain": [
              "<Figure size 504x360 with 1 Axes>"
            ]
          },
          "metadata": {},
          "execution_count": 33
        }
      ]
    },
    {
      "cell_type": "markdown",
      "metadata": {
        "id": "pGcJ5U4InF78"
      },
      "source": [
        "Ok, our circuit is all cool and dandy so we can proceed to the next chapter of IBM Qiskit Course\n"
      ]
    },
    {
      "cell_type": "markdown",
      "metadata": {
        "id": "vaKfuwi-n8Sq"
      },
      "source": [
        "**TODO:**\n",
        "* turn half adder circuit into a gate so it's easier to use\n",
        "* combine half adder circuit with different input circuits to learn how to change input without going all the way down to adding objects to memory"
      ]
    }
  ]
}